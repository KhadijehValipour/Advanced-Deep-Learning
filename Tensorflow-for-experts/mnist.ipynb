{
  "cells": [
    {
      "cell_type": "code",
      "execution_count": 1,
      "metadata": {
        "id": "9VUCh4QsFQ5U"
      },
      "outputs": [],
      "source": [
        "import tensorflow as tf\n",
        "from tensorflow.keras.layers import Dense, Flatten, Conv2D"
      ]
    },
    {
      "cell_type": "code",
      "execution_count": 2,
      "metadata": {
        "colab": {
          "base_uri": "https://localhost:8080/"
        },
        "id": "kyfcY9h1GSXq",
        "outputId": "d35886c5-a5e1-492d-c431-009cd60d5d82"
      },
      "outputs": [
        {
          "name": "stdout",
          "output_type": "stream",
          "text": [
            "Downloading data from https://storage.googleapis.com/tensorflow/tf-keras-datasets/mnist.npz\n",
            "11490434/11490434 [==============================] - 0s 0us/step\n"
          ]
        }
      ],
      "source": [
        "mnist = tf.keras.datasets.mnist\n",
        "\n",
        "(x_train, y_train),(x_test, y_test) = mnist.load_data()\n",
        "x_train = x_train / 255.0\n",
        "x_test = x_test / 255.0\n",
        "\n",
        "x_train =x_train[..., tf.newaxis]\n",
        "x_test = x_test[..., tf.newaxis]\n"
      ]
    },
    {
      "cell_type": "code",
      "execution_count": 3,
      "metadata": {
        "colab": {
          "base_uri": "https://localhost:8080/"
        },
        "id": "oHPVs92wIN1D",
        "outputId": "f26aa82b-8ede-4d1d-cd77-828929bfc5a5"
      },
      "outputs": [
        {
          "data": {
            "text/plain": [
              "(28, 28, 1)"
            ]
          },
          "execution_count": 3,
          "metadata": {},
          "output_type": "execute_result"
        }
      ],
      "source": [
        "x_train[0].shape"
      ]
    },
    {
      "cell_type": "code",
      "execution_count": 4,
      "metadata": {
        "colab": {
          "base_uri": "https://localhost:8080/"
        },
        "id": "MjVI4cjcIUbT",
        "outputId": "7f11c91f-5db2-4b6e-ec62-746b4a9b21a5"
      },
      "outputs": [
        {
          "data": {
            "text/plain": [
              "numpy.float64"
            ]
          },
          "execution_count": 4,
          "metadata": {},
          "output_type": "execute_result"
        }
      ],
      "source": [
        "type(x_train[0][1,1,0])"
      ]
    },
    {
      "cell_type": "code",
      "execution_count": 5,
      "metadata": {
        "id": "14k12OFzJ9f3"
      },
      "outputs": [],
      "source": [
        "train_dataset = tf.data.Dataset.from_tensor_slices((x_train, y_train)).shuffle(1000).batch(32)\n",
        "test_dataset = tf.data.Dataset.from_tensor_slices((x_test, y_test)).batch(32)"
      ]
    },
    {
      "cell_type": "code",
      "execution_count": 6,
      "metadata": {
        "id": "dUFKKQ48ZeXX"
      },
      "outputs": [],
      "source": [
        "class ModelMnist(tf.keras.Model):\n",
        "  def __init__(self):\n",
        "    super().__init__()\n",
        "    self.flatten = Flatten()\n",
        "    self.d1 = Dense(128, activation='relu')\n",
        "    self.conv1 = Conv2D(32, 3, activation='relu')\n",
        "    self.d2 = Dense(10)\n",
        "\n",
        "  def call(self, x):\n",
        "    x = self.conv1(x)\n",
        "    x = self.flatten(x)\n",
        "    x = self.d1(x)\n",
        "    x = self.d2(x)\n",
        "    return x\n",
        "\n",
        "\n",
        "model = ModelMnist()\n",
        "\n"
      ]
    },
    {
      "cell_type": "code",
      "execution_count": 7,
      "metadata": {
        "id": "hYw4g9JJi5rq"
      },
      "outputs": [],
      "source": [
        "loss_function = tf.keras.losses.SparseCategoricalCrossentropy(from_logits=True)\n",
        "\n",
        "optimizer = tf.keras.optimizers.Adam()"
      ]
    },
    {
      "cell_type": "code",
      "execution_count": 8,
      "metadata": {
        "id": "C-2Buzugmy3Q"
      },
      "outputs": [],
      "source": [
        "train_loss = tf.keras.metrics.Mean()\n",
        "test_loss = tf.keras.metrics.Mean()\n",
        "\n",
        "train_accuracy = tf.keras.metrics.SparseCategoricalAccuracy()\n",
        "test_accuracy = tf.keras.metrics.SparseCategoricalAccuracy()\n"
      ]
    },
    {
      "cell_type": "code",
      "execution_count": 9,
      "metadata": {
        "id": "8nE2vH2-zJD6"
      },
      "outputs": [],
      "source": [
        "@tf.function\n",
        "def train(images, labels):\n",
        "    with tf.GradientTape() as tape:\n",
        "      pred_labels = model(images)\n",
        "      loss = loss_function(labels, pred_labels)\n",
        "    gradinets = tape.gradient(loss, model.trainable_variables)\n",
        "    optimizer.apply_gradients(zip(gradinets, model.trainable_variables))\n",
        "\n",
        "    train_loss(loss)\n",
        "    train_accuracy(labels, pred_labels)\n"
      ]
    },
    {
      "cell_type": "code",
      "execution_count": 10,
      "metadata": {
        "id": "oJyC7IpEzsYR"
      },
      "outputs": [],
      "source": [
        "@tf.function\n",
        "def test(images, labels):\n",
        "    pred_labels = model(images)\n",
        "    loss = loss_function(labels, pred_labels)\n",
        "    test_loss(loss)\n",
        "    test_accuracy(labels, pred_labels)\n",
        "\n"
      ]
    },
    {
      "cell_type": "code",
      "execution_count": 11,
      "metadata": {
        "colab": {
          "base_uri": "https://localhost:8080/"
        },
        "id": "3_Bp3m4jok19",
        "outputId": "92b33129-ac64-4ced-ce04-faaa2a0357aa"
      },
      "outputs": [
        {
          "name": "stdout",
          "output_type": "stream",
          "text": [
            "epoch: 1 Train Loss:, 0.13199812173843384 Train Acc:, 0.9606666564941406 Test Loss:, 0.07303490489721298 Test Acc:, 0.9753999710083008\n",
            "epoch: 2 Train Loss:, 0.04050113260746002 Train Acc:, 0.9870166778564453 Test Loss:, 0.05335867032408714 Test Acc:, 0.9815999865531921\n",
            "epoch: 3 Train Loss:, 0.020984522998332977 Train Acc:, 0.9930833578109741 Test Loss:, 0.0711398795247078 Test Acc:, 0.9804999828338623\n",
            "epoch: 4 Train Loss:, 0.011498640291392803 Train Acc:, 0.9963833093643188 Test Loss:, 0.06662912666797638 Test Acc:, 0.9825999736785889\n",
            "epoch: 5 Train Loss:, 0.009157889522612095 Train Acc:, 0.996749997138977 Test Loss:, 0.06823219358921051 Test Acc:, 0.9836000204086304\n",
            "epoch: 6 Train Loss:, 0.006349870935082436 Train Acc:, 0.9976833462715149 Test Loss:, 0.07052082568407059 Test Acc:, 0.9818999767303467\n",
            "epoch: 7 Train Loss:, 0.006052821408957243 Train Acc:, 0.9981333613395691 Test Loss:, 0.07044274359941483 Test Acc:, 0.984000027179718\n"
          ]
        }
      ],
      "source": [
        "epochs = 7\n",
        "\n",
        "for epoch in range(epochs):\n",
        "  train_loss.reset_states()\n",
        "  train_accuracy.reset_states()\n",
        "  test_loss.reset_states()\n",
        "  test_accuracy.reset_states()\n",
        "\n",
        "  # train\n",
        "  for images, labels in train_dataset:\n",
        "    train(images, labels)\n",
        "\n",
        "\n",
        "  # test\n",
        "  for images, labels in test_dataset:\n",
        "    test(images, labels)\n",
        "\n",
        "  print(\"epoch:\",epoch + 1,\n",
        "        f\"Train Loss:, {train_loss.result()}\",\n",
        "        f\"Train Acc:, {train_accuracy.result()}\",\n",
        "        f\"Test Loss:, {test_loss.result()}\",\n",
        "        f\"Test Acc:, {test_accuracy.result()}\")"
      ]
    },
    {
      "cell_type": "code",
      "execution_count": 13,
      "metadata": {
        "colab": {
          "base_uri": "https://localhost:8080/",
          "height": 452
        },
        "id": "Pt28u_Ykg50I",
        "outputId": "2fdbeaf8-cd96-4628-919c-18752c6235f6"
      },
      "outputs": [
        {
          "name": "stdout",
          "output_type": "stream",
          "text": [
            "result:  0\n"
          ]
        },
        {
          "data": {
            "image/png": "[encoded data removed]",
            "text/plain": [
              "<Figure size 640x480 with 1 Axes>"
            ]
          },
          "metadata": {},
          "output_type": "display_data"
        }
      ],
      "source": [
        "import cv2\n",
        "import numpy as np\n",
        "import matplotlib.pyplot as plt\n",
        "\n",
        "image = cv2.imread(\"/content/images0.png\")\n",
        "plt.imshow(image)\n",
        "image = cv2.cvtColor(image,  cv2.COLOR_BGR2GRAY)\n",
        "# Height, width\n",
        "image = cv2.resize(image, (28,28))\n",
        "# add batch size\n",
        "image = image[tf.newaxis, ...]\n",
        "# add channel\n",
        "image = image[..., tf.newaxis]\n",
        "image = image.astype(\"float32\")\n",
        "# image.shape\n",
        "\n",
        "\n",
        "pred = model(image)\n",
        "result = np.argmax(pred)\n",
        "print(\"result: \", result )"
      ]
    },
    {
      "cell_type": "code",
      "execution_count": 14,
      "metadata": {
        "colab": {
          "base_uri": "https://localhost:8080/",
          "height": 452
        },
        "id": "ZyKjvJEIhdEI",
        "outputId": "24d5c488-0700-4782-97e0-16609633d0cb"
      },
      "outputs": [
        {
          "name": "stdout",
          "output_type": "stream",
          "text": [
            "result:  1\n"
          ]
        },
        {
          "data": {
            "image/png": "[encoded data removed]",
            "text/plain": [
              "<Figure size 640x480 with 1 Axes>"
            ]
          },
          "metadata": {},
          "output_type": "display_data"
        }
      ],
      "source": [
        "image_2 = cv2.imread(\"/content/HW_2.png\")\n",
        "plt.imshow(image_2)\n",
        "image_2 = cv2.cvtColor(image_2, cv2.COLOR_BGR2GRAY)\n",
        "image_2 = cv2.resize(image_2, (28,28))\n",
        "image_2 = image_2[tf.newaxis, ...]\n",
        "image_2 = image_2[..., tf.newaxis]\n",
        "image_2 = image_2.astype(\"float32\")\n",
        "image_2.shape\n",
        "\n",
        "pred = model(image_2)\n",
        "result = np.argmax(pred)\n",
        "print(\"result: \", result)"
      ]
    }
  ],
  "metadata": {
    "accelerator": "GPU",
    "colab": {
      "gpuType": "T4",
      "provenance": []
    },
    "kernelspec": {
      "display_name": "Python 3",
      "name": "python3"
    },
    "language_info": {
      "name": "python"
    }
  },
  "nbformat": 4,
  "nbformat_minor": 0
}
